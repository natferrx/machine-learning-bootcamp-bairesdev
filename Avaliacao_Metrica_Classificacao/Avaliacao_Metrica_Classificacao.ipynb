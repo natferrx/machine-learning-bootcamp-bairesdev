{
  "nbformat": 4,
  "nbformat_minor": 0,
  "metadata": {
    "colab": {
      "provenance": []
    },
    "kernelspec": {
      "name": "python3",
      "display_name": "Python 3"
    },
    "language_info": {
      "name": "python"
    }
  },
  "cells": [
    {
      "cell_type": "markdown",
      "source": [
        "# Avaliação de Modelo de Classificação com Métricas Binárias\n",
        "\n",
        "Este notebook implementa, de forma didática, o cálculo manual das principais métricas de avaliação de um modelo de classificação binária a partir de uma matriz de confusão simulada.  \n",
        "  \n",
        "\n",
        "**Aluna:** Natália Ferreira  \n",
        "**Bootcamp:** Machine Learning Training - BairesDev & DIO"
      ],
      "metadata": {
        "id": "Vvbbev1jQV4Z"
      }
    },
    {
      "cell_type": "code",
      "execution_count": 1,
      "metadata": {
        "id": "stlJuTPNQQod"
      },
      "outputs": [],
      "source": [
        "import pandas as pd\n",
        "import numpy as np\n",
        "import matplotlib.pyplot as plt\n",
        "import seaborn as sns"
      ]
    },
    {
      "cell_type": "code",
      "source": [
        "# Simulando uma matriz de confusão binária\n",
        "matriz_confusao = np.array([[50, 10],  # VN, FP\n",
        "                            [5,  35]]) # FN, VP"
      ],
      "metadata": {
        "id": "BEYOL6mOQb0R"
      },
      "execution_count": 2,
      "outputs": []
    },
    {
      "cell_type": "code",
      "source": [
        "# Atribuindo os valores\n",
        "VN, FP = matriz_confusao[0]\n",
        "FN, VP = matriz_confusao[1]"
      ],
      "metadata": {
        "id": "xOMKTCLeQdpz"
      },
      "execution_count": 3,
      "outputs": []
    },
    {
      "cell_type": "code",
      "source": [
        "# Exibindo a matriz de confusão\n",
        "plt.figure(figsize=(6,4))\n",
        "sns.heatmap(matriz_confusao, annot=True, fmt=\"d\", cmap=\"Blues\", xticklabels=['Negativo', 'Positivo'], yticklabels=['Negativo', 'Positivo'])\n",
        "plt.xlabel('Classe Predita')\n",
        "plt.ylabel('Classe Verdadeira')\n",
        "plt.title('Matriz de Confusão')\n",
        "plt.show()"
      ],
      "metadata": {
        "colab": {
          "base_uri": "https://localhost:8080/",
          "height": 410
        },
        "id": "DtM_LomXQtg4",
        "outputId": "f7d905b7-7067-4e41-e2b0-7d3326559bb9"
      },
      "execution_count": 4,
      "outputs": [
        {
          "output_type": "display_data",
          "data": {
            "text/plain": [
              "<Figure size 600x400 with 2 Axes>"
            ],
            "image/png": "[encoded data removed]"
          },
          "metadata": {}
        }
      ]
    },
    {
      "cell_type": "code",
      "source": [
        "# Total de amostras\n",
        "N = VN + FP + FN + VP"
      ],
      "metadata": {
        "id": "D1yxCNqkQfde"
      },
      "execution_count": 5,
      "outputs": []
    },
    {
      "cell_type": "markdown",
      "source": [
        "### 📐 Fórmulas Utilizadas\n",
        "\n",
        "- **Acurácia** = (VP + VN) / (VP + VN + FP + FN)  \n",
        "- **Sensibilidade (Recall)** = VP / (VP + FN)  \n",
        "- **Especificidade** = VN / (VN + FP)  \n",
        "- **Precisão** = VP / (VP + FP)  \n",
        "- **F1-Score** = 2 × (Precisão × Sensibilidade) / (Precisão + Sensibilidade)\n"
      ],
      "metadata": {
        "id": "BP8551rpSSbT"
      }
    },
    {
      "cell_type": "code",
      "source": [
        "# Cálculo das métricas\n",
        "sensibilidade = VP / (VP + FN)\n",
        "especificidade = VN / (VN + FP)\n",
        "acuracia = (VP + VN) / N\n",
        "precisao = VP / (VP + FP)\n",
        "f_score = 2 * (precisao * sensibilidade) / (precisao + sensibilidade)"
      ],
      "metadata": {
        "id": "xroJSflQQigd"
      },
      "execution_count": 6,
      "outputs": []
    },
    {
      "cell_type": "code",
      "source": [
        "# Organizando resultados\n",
        "metricas = pd.DataFrame({\n",
        "    'Métrica': ['Acurácia', 'Sensibilidade (Recall)', 'Especificidade', 'Precisão', 'F1-Score'],\n",
        "    'Valor': [acuracia, sensibilidade, especificidade, precisao, f_score]\n",
        "})"
      ],
      "metadata": {
        "id": "ol04l8hJQkQI"
      },
      "execution_count": 7,
      "outputs": []
    },
    {
      "cell_type": "code",
      "source": [
        "# Exibir a tabela de métricas\n",
        "print(\"Métricas de Avaliação\")\n",
        "print(metricas)"
      ],
      "metadata": {
        "colab": {
          "base_uri": "https://localhost:8080/"
        },
        "id": "qwVYWQzzQyr2",
        "outputId": "bd0a050d-947a-4ce5-bfc2-fb65be9fac7d"
      },
      "execution_count": 9,
      "outputs": [
        {
          "output_type": "stream",
          "name": "stdout",
          "text": [
            "Métricas de Avaliação\n",
            "                  Métrica     Valor\n",
            "0                Acurácia  0.850000\n",
            "1  Sensibilidade (Recall)  0.875000\n",
            "2          Especificidade  0.833333\n",
            "3                Precisão  0.777778\n",
            "4                F1-Score  0.823529\n"
          ]
        }
      ]
    }
  ]
}